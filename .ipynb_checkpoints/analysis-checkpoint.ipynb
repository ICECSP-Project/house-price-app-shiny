{
 "cells": [
  {
   "cell_type": "markdown",
   "metadata": {},
   "source": [
    "# Loading data and libraries"
   ]
  },
  {
   "cell_type": "code",
   "execution_count": 11,
   "metadata": {},
   "outputs": [],
   "source": [
    "suppressWarnings({\n",
    "    library(caret);library(ggplot2); library(lubridate); library(plotly); library(dplyr)\n",
    "})"
   ]
  },
  {
   "cell_type": "code",
   "execution_count": 17,
   "metadata": {},
   "outputs": [
    {
     "data": {
      "text/html": [
       "<table>\n",
       "<thead><tr><th scope=col>X</th><th scope=col>Lng</th><th scope=col>Lat</th><th scope=col>Cid</th><th scope=col>tradeTime</th><th scope=col>DOM</th><th scope=col>followers</th><th scope=col>totalPrice</th><th scope=col>price</th><th scope=col>square</th><th scope=col>...</th><th scope=col>buildingType</th><th scope=col>constructionTime</th><th scope=col>renovationCondition</th><th scope=col>buildingStructure</th><th scope=col>ladderRatio</th><th scope=col>elevator</th><th scope=col>fiveYearsProperty</th><th scope=col>subway</th><th scope=col>district</th><th scope=col>communityAverage</th></tr></thead>\n",
       "<tbody>\n",
       "\t<tr><td>1                </td><td>116.4755         </td><td>40.01952         </td><td>1.111027e+12     </td><td>2016-08-09       </td><td>1464             </td><td>106              </td><td> 415.0           </td><td>31680            </td><td>131.00           </td><td>...              </td><td>Tower            </td><td>2005             </td><td>Simplicit        </td><td>Steel/Concrete   </td><td>0.217            </td><td>Has_Elevator     </td><td>Ownership &gt; 5y</td><td>Has_Subway       </td><td>ChaoYang         </td><td>56021            </td></tr>\n",
       "\t<tr><td>2                </td><td>116.4539         </td><td>39.88153         </td><td>1.111027e+12     </td><td>2016-07-28       </td><td> 903             </td><td>126              </td><td> 575.0           </td><td>43436            </td><td>132.38           </td><td>...              </td><td>Tower            </td><td>2004             </td><td>Hardcover        </td><td>Steel/Concrete   </td><td>0.667            </td><td>Has_Elevator     </td><td>Ownership &lt; 5y</td><td>No_Subway        </td><td>ChaoYang         </td><td>71539            </td></tr>\n",
       "\t<tr><td>3                </td><td>116.5620         </td><td>39.87714         </td><td>1.111041e+12     </td><td>2016-12-11       </td><td>1271             </td><td> 48              </td><td>1030.0           </td><td>52021            </td><td>198.00           </td><td>...              </td><td>Plate            </td><td>2005             </td><td>Simplicit        </td><td>Steel/Concrete   </td><td>0.500            </td><td>Has_Elevator     </td><td>Ownership &gt; 5y</td><td>No_Subway        </td><td>ChaoYang         </td><td>48160            </td></tr>\n",
       "\t<tr><td>4                                                </td><td>116.4380                                         </td><td>40.07611                                         </td><td>1.111043e+12                                     </td><td>2016-09-30                                       </td><td> 965                                             </td><td>138                                              </td><td> 297.5                                           </td><td>22202                                            </td><td>134.00                                           </td><td>...                                              </td><td>Tower                                            </td><td>2008                                             </td><td><span style=white-space:pre-wrap>Other    </span></td><td>Steel/Concrete                                   </td><td>0.273                                            </td><td>Has_Elevator                                     </td><td>Ownership &gt; 5y                                </td><td>No_Subway                                        </td><td>ChangPing                                        </td><td>51238                                            </td></tr>\n",
       "\t<tr><td>5                                                     </td><td>116.4284                                              </td><td>39.88623                                              </td><td>1.111027e+12                                          </td><td>2016-08-28                                            </td><td> 927                                                  </td><td>286                                                   </td><td> 392.0                                                </td><td>48396                                                 </td><td> 81.00                                                </td><td>...                                                   </td><td>Plate                                                 </td><td>1960                                                  </td><td><span style=white-space:pre-wrap>Rough    </span>     </td><td><span style=white-space:pre-wrap>Mixed         </span></td><td>0.333                                                 </td><td>No_elevator                                           </td><td>Ownership &lt; 5y                                     </td><td>Has_Subway                                            </td><td>DongCheng                                             </td><td>62588                                                 </td></tr>\n",
       "\t<tr><td>6                </td><td>116.4663         </td><td>39.99136         </td><td>1.111027e+12     </td><td>2016-07-22       </td><td> 861             </td><td> 57              </td><td> 275.6           </td><td>52000            </td><td> 53.00           </td><td>...              </td><td>Plate            </td><td>2005             </td><td>Simplicit        </td><td>Steel/Concrete   </td><td>0.333            </td><td>Has_Elevator     </td><td>Ownership &lt; 5y</td><td>No_Subway        </td><td>ChaoYang         </td><td>67738            </td></tr>\n",
       "</tbody>\n",
       "</table>\n"
      ],
      "text/latex": [
       "\\begin{tabular}{r|lllllllllllllllllllllllll}\n",
       " X & Lng & Lat & Cid & tradeTime & DOM & followers & totalPrice & price & square & ... & buildingType & constructionTime & renovationCondition & buildingStructure & ladderRatio & elevator & fiveYearsProperty & subway & district & communityAverage\\\\\n",
       "\\hline\n",
       "\t 1              & 116.4755       & 40.01952       & 1.111027e+12   & 2016-08-09     & 1464           & 106            &  415.0         & 31680          & 131.00         & ...            & Tower          & 2005           & Simplicit      & Steel/Concrete & 0.217          & Has\\_Elevator & Ownership > 5y & Has\\_Subway   & ChaoYang       & 56021         \\\\\n",
       "\t 2              & 116.4539       & 39.88153       & 1.111027e+12   & 2016-07-28     &  903           & 126            &  575.0         & 43436          & 132.38         & ...            & Tower          & 2004           & Hardcover      & Steel/Concrete & 0.667          & Has\\_Elevator & Ownership < 5y & No\\_Subway    & ChaoYang       & 71539         \\\\\n",
       "\t 3              & 116.5620       & 39.87714       & 1.111041e+12   & 2016-12-11     & 1271           &  48            & 1030.0         & 52021          & 198.00         & ...            & Plate          & 2005           & Simplicit      & Steel/Concrete & 0.500          & Has\\_Elevator & Ownership > 5y & No\\_Subway    & ChaoYang       & 48160         \\\\\n",
       "\t 4              & 116.4380       & 40.07611       & 1.111043e+12   & 2016-09-30     &  965           & 138            &  297.5         & 22202          & 134.00         & ...            & Tower          & 2008           & Other          & Steel/Concrete & 0.273          & Has\\_Elevator & Ownership > 5y & No\\_Subway    & ChangPing      & 51238         \\\\\n",
       "\t 5              & 116.4284       & 39.88623       & 1.111027e+12   & 2016-08-28     &  927           & 286            &  392.0         & 48396          &  81.00         & ...            & Plate          & 1960           & Rough          & Mixed          & 0.333          & No\\_elevator  & Ownership < 5y & Has\\_Subway   & DongCheng      & 62588         \\\\\n",
       "\t 6              & 116.4663       & 39.99136       & 1.111027e+12   & 2016-07-22     &  861           &  57            &  275.6         & 52000          &  53.00         & ...            & Plate          & 2005           & Simplicit      & Steel/Concrete & 0.333          & Has\\_Elevator & Ownership < 5y & No\\_Subway    & ChaoYang       & 67738         \\\\\n",
       "\\end{tabular}\n"
      ],
      "text/markdown": [
       "\n",
       "| X | Lng | Lat | Cid | tradeTime | DOM | followers | totalPrice | price | square | ... | buildingType | constructionTime | renovationCondition | buildingStructure | ladderRatio | elevator | fiveYearsProperty | subway | district | communityAverage |\n",
       "|---|---|---|---|---|---|---|---|---|---|---|---|---|---|---|---|---|---|---|---|---|\n",
       "| 1              | 116.4755       | 40.01952       | 1.111027e+12   | 2016-08-09     | 1464           | 106            |  415.0         | 31680          | 131.00         | ...            | Tower          | 2005           | Simplicit      | Steel/Concrete | 0.217          | Has_Elevator   | Ownership > 5y | Has_Subway     | ChaoYang       | 56021          |\n",
       "| 2              | 116.4539       | 39.88153       | 1.111027e+12   | 2016-07-28     |  903           | 126            |  575.0         | 43436          | 132.38         | ...            | Tower          | 2004           | Hardcover      | Steel/Concrete | 0.667          | Has_Elevator   | Ownership < 5y | No_Subway      | ChaoYang       | 71539          |\n",
       "| 3              | 116.5620       | 39.87714       | 1.111041e+12   | 2016-12-11     | 1271           |  48            | 1030.0         | 52021          | 198.00         | ...            | Plate          | 2005           | Simplicit      | Steel/Concrete | 0.500          | Has_Elevator   | Ownership > 5y | No_Subway      | ChaoYang       | 48160          |\n",
       "| 4              | 116.4380       | 40.07611       | 1.111043e+12   | 2016-09-30     |  965           | 138            |  297.5         | 22202          | 134.00         | ...            | Tower          | 2008           | Other          | Steel/Concrete | 0.273          | Has_Elevator   | Ownership > 5y | No_Subway      | ChangPing      | 51238          |\n",
       "| 5              | 116.4284       | 39.88623       | 1.111027e+12   | 2016-08-28     |  927           | 286            |  392.0         | 48396          |  81.00         | ...            | Plate          | 1960           | Rough          | Mixed          | 0.333          | No_elevator    | Ownership < 5y | Has_Subway     | DongCheng      | 62588          |\n",
       "| 6              | 116.4663       | 39.99136       | 1.111027e+12   | 2016-07-22     |  861           |  57            |  275.6         | 52000          |  53.00         | ...            | Plate          | 2005           | Simplicit      | Steel/Concrete | 0.333          | Has_Elevator   | Ownership < 5y | No_Subway      | ChaoYang       | 67738          |\n",
       "\n"
      ],
      "text/plain": [
       "  X Lng      Lat      Cid          tradeTime  DOM  followers totalPrice price\n",
       "1 1 116.4755 40.01952 1.111027e+12 2016-08-09 1464 106        415.0     31680\n",
       "2 2 116.4539 39.88153 1.111027e+12 2016-07-28  903 126        575.0     43436\n",
       "3 3 116.5620 39.87714 1.111041e+12 2016-12-11 1271  48       1030.0     52021\n",
       "4 4 116.4380 40.07611 1.111043e+12 2016-09-30  965 138        297.5     22202\n",
       "5 5 116.4284 39.88623 1.111027e+12 2016-08-28  927 286        392.0     48396\n",
       "6 6 116.4663 39.99136 1.111027e+12 2016-07-22  861  57        275.6     52000\n",
       "  square ... buildingType constructionTime renovationCondition\n",
       "1 131.00 ... Tower        2005             Simplicit          \n",
       "2 132.38 ... Tower        2004             Hardcover          \n",
       "3 198.00 ... Plate        2005             Simplicit          \n",
       "4 134.00 ... Tower        2008             Other              \n",
       "5  81.00 ... Plate        1960             Rough              \n",
       "6  53.00 ... Plate        2005             Simplicit          \n",
       "  buildingStructure ladderRatio elevator     fiveYearsProperty subway    \n",
       "1 Steel/Concrete    0.217       Has_Elevator Ownership > 5y    Has_Subway\n",
       "2 Steel/Concrete    0.667       Has_Elevator Ownership < 5y    No_Subway \n",
       "3 Steel/Concrete    0.500       Has_Elevator Ownership > 5y    No_Subway \n",
       "4 Steel/Concrete    0.273       Has_Elevator Ownership > 5y    No_Subway \n",
       "5 Mixed             0.333       No_elevator  Ownership < 5y    Has_Subway\n",
       "6 Steel/Concrete    0.333       Has_Elevator Ownership < 5y    No_Subway \n",
       "  district  communityAverage\n",
       "1 ChaoYang  56021           \n",
       "2 ChaoYang  71539           \n",
       "3 ChaoYang  48160           \n",
       "4 ChangPing 51238           \n",
       "5 DongCheng 62588           \n",
       "6 ChaoYang  67738           "
      ]
     },
     "metadata": {},
     "output_type": "display_data"
    }
   ],
   "source": [
    "data = read.csv(\"../datasets/Dataset 3 Beijing/cleaned_beijing.csv\")\n",
    "head(data)"
   ]
  },
  {
   "cell_type": "code",
   "execution_count": 18,
   "metadata": {},
   "outputs": [
    {
     "data": {
      "text/html": [
       "<ol class=list-inline>\n",
       "\t<li>'X'</li>\n",
       "\t<li>'Lng'</li>\n",
       "\t<li>'Lat'</li>\n",
       "\t<li>'Cid'</li>\n",
       "\t<li>'tradeTime'</li>\n",
       "\t<li>'DOM'</li>\n",
       "\t<li>'followers'</li>\n",
       "\t<li>'totalPrice'</li>\n",
       "\t<li>'price'</li>\n",
       "\t<li>'square'</li>\n",
       "\t<li>'livingRoom'</li>\n",
       "\t<li>'drawingRoom'</li>\n",
       "\t<li>'kitchen'</li>\n",
       "\t<li>'bathRoom'</li>\n",
       "\t<li>'floor'</li>\n",
       "\t<li>'buildingType'</li>\n",
       "\t<li>'constructionTime'</li>\n",
       "\t<li>'renovationCondition'</li>\n",
       "\t<li>'buildingStructure'</li>\n",
       "\t<li>'ladderRatio'</li>\n",
       "\t<li>'elevator'</li>\n",
       "\t<li>'fiveYearsProperty'</li>\n",
       "\t<li>'subway'</li>\n",
       "\t<li>'district'</li>\n",
       "\t<li>'communityAverage'</li>\n",
       "</ol>\n"
      ],
      "text/latex": [
       "\\begin{enumerate*}\n",
       "\\item 'X'\n",
       "\\item 'Lng'\n",
       "\\item 'Lat'\n",
       "\\item 'Cid'\n",
       "\\item 'tradeTime'\n",
       "\\item 'DOM'\n",
       "\\item 'followers'\n",
       "\\item 'totalPrice'\n",
       "\\item 'price'\n",
       "\\item 'square'\n",
       "\\item 'livingRoom'\n",
       "\\item 'drawingRoom'\n",
       "\\item 'kitchen'\n",
       "\\item 'bathRoom'\n",
       "\\item 'floor'\n",
       "\\item 'buildingType'\n",
       "\\item 'constructionTime'\n",
       "\\item 'renovationCondition'\n",
       "\\item 'buildingStructure'\n",
       "\\item 'ladderRatio'\n",
       "\\item 'elevator'\n",
       "\\item 'fiveYearsProperty'\n",
       "\\item 'subway'\n",
       "\\item 'district'\n",
       "\\item 'communityAverage'\n",
       "\\end{enumerate*}\n"
      ],
      "text/markdown": [
       "1. 'X'\n",
       "2. 'Lng'\n",
       "3. 'Lat'\n",
       "4. 'Cid'\n",
       "5. 'tradeTime'\n",
       "6. 'DOM'\n",
       "7. 'followers'\n",
       "8. 'totalPrice'\n",
       "9. 'price'\n",
       "10. 'square'\n",
       "11. 'livingRoom'\n",
       "12. 'drawingRoom'\n",
       "13. 'kitchen'\n",
       "14. 'bathRoom'\n",
       "15. 'floor'\n",
       "16. 'buildingType'\n",
       "17. 'constructionTime'\n",
       "18. 'renovationCondition'\n",
       "19. 'buildingStructure'\n",
       "20. 'ladderRatio'\n",
       "21. 'elevator'\n",
       "22. 'fiveYearsProperty'\n",
       "23. 'subway'\n",
       "24. 'district'\n",
       "25. 'communityAverage'\n",
       "\n",
       "\n"
      ],
      "text/plain": [
       " [1] \"X\"                   \"Lng\"                 \"Lat\"                \n",
       " [4] \"Cid\"                 \"tradeTime\"           \"DOM\"                \n",
       " [7] \"followers\"           \"totalPrice\"          \"price\"              \n",
       "[10] \"square\"              \"livingRoom\"          \"drawingRoom\"        \n",
       "[13] \"kitchen\"             \"bathRoom\"            \"floor\"              \n",
       "[16] \"buildingType\"        \"constructionTime\"    \"renovationCondition\"\n",
       "[19] \"buildingStructure\"   \"ladderRatio\"         \"elevator\"           \n",
       "[22] \"fiveYearsProperty\"   \"subway\"              \"district\"           \n",
       "[25] \"communityAverage\"   "
      ]
     },
     "metadata": {},
     "output_type": "display_data"
    }
   ],
   "source": [
    "names(data)"
   ]
  },
  {
   "cell_type": "code",
   "execution_count": 19,
   "metadata": {
    "scrolled": true
   },
   "outputs": [
    {
     "data": {
      "text/html": [
       "<table>\n",
       "<thead><tr><th scope=col>square</th><th scope=col>constructionTime</th><th scope=col>subway</th><th scope=col>district</th></tr></thead>\n",
       "<tbody>\n",
       "\t<tr><td>131.00    </td><td>2005      </td><td>Has_Subway</td><td>ChaoYang  </td></tr>\n",
       "\t<tr><td>132.38    </td><td>2004      </td><td>No_Subway </td><td>ChaoYang  </td></tr>\n",
       "\t<tr><td>198.00    </td><td>2005      </td><td>No_Subway </td><td>ChaoYang  </td></tr>\n",
       "\t<tr><td>134.00    </td><td>2008      </td><td>No_Subway </td><td>ChangPing </td></tr>\n",
       "\t<tr><td> 81.00    </td><td>1960      </td><td>Has_Subway</td><td>DongCheng </td></tr>\n",
       "\t<tr><td> 53.00    </td><td>2005      </td><td>No_Subway </td><td>ChaoYang  </td></tr>\n",
       "</tbody>\n",
       "</table>\n"
      ],
      "text/latex": [
       "\\begin{tabular}{r|llll}\n",
       " square & constructionTime & subway & district\\\\\n",
       "\\hline\n",
       "\t 131.00       & 2005         & Has\\_Subway & ChaoYang    \\\\\n",
       "\t 132.38       & 2004         & No\\_Subway  & ChaoYang    \\\\\n",
       "\t 198.00       & 2005         & No\\_Subway  & ChaoYang    \\\\\n",
       "\t 134.00       & 2008         & No\\_Subway  & ChangPing   \\\\\n",
       "\t  81.00       & 1960         & Has\\_Subway & DongCheng   \\\\\n",
       "\t  53.00       & 2005         & No\\_Subway  & ChaoYang    \\\\\n",
       "\\end{tabular}\n"
      ],
      "text/markdown": [
       "\n",
       "| square | constructionTime | subway | district |\n",
       "|---|---|---|---|\n",
       "| 131.00     | 2005       | Has_Subway | ChaoYang   |\n",
       "| 132.38     | 2004       | No_Subway  | ChaoYang   |\n",
       "| 198.00     | 2005       | No_Subway  | ChaoYang   |\n",
       "| 134.00     | 2008       | No_Subway  | ChangPing  |\n",
       "|  81.00     | 1960       | Has_Subway | DongCheng  |\n",
       "|  53.00     | 2005       | No_Subway  | ChaoYang   |\n",
       "\n"
      ],
      "text/plain": [
       "  square constructionTime subway     district \n",
       "1 131.00 2005             Has_Subway ChaoYang \n",
       "2 132.38 2004             No_Subway  ChaoYang \n",
       "3 198.00 2005             No_Subway  ChaoYang \n",
       "4 134.00 2008             No_Subway  ChangPing\n",
       "5  81.00 1960             Has_Subway DongCheng\n",
       "6  53.00 2005             No_Subway  ChaoYang "
      ]
     },
     "metadata": {},
     "output_type": "display_data"
    }
   ],
   "source": [
    "data = select(data, square, constructionTime, subway, district)\n",
    "head(data)"
   ]
  },
  {
   "cell_type": "code",
   "execution_count": 20,
   "metadata": {},
   "outputs": [
    {
     "data": {
      "text/html": [
       "<dl class=dl-horizontal>\n",
       "\t<dt>square</dt>\n",
       "\t\t<dd>'numeric'</dd>\n",
       "\t<dt>constructionTime</dt>\n",
       "\t\t<dd>'integer'</dd>\n",
       "\t<dt>subway</dt>\n",
       "\t\t<dd>'factor'</dd>\n",
       "\t<dt>district</dt>\n",
       "\t\t<dd>'factor'</dd>\n",
       "</dl>\n"
      ],
      "text/latex": [
       "\\begin{description*}\n",
       "\\item[square] 'numeric'\n",
       "\\item[constructionTime] 'integer'\n",
       "\\item[subway] 'factor'\n",
       "\\item[district] 'factor'\n",
       "\\end{description*}\n"
      ],
      "text/markdown": [
       "square\n",
       ":   'numeric'constructionTime\n",
       ":   'integer'subway\n",
       ":   'factor'district\n",
       ":   'factor'\n",
       "\n"
      ],
      "text/plain": [
       "          square constructionTime           subway         district \n",
       "       \"numeric\"        \"integer\"         \"factor\"         \"factor\" "
      ]
     },
     "metadata": {},
     "output_type": "display_data"
    }
   ],
   "source": [
    "sapply(data, class)"
   ]
  },
  {
   "cell_type": "code",
   "execution_count": 33,
   "metadata": {},
   "outputs": [
    {
     "data": {
      "text/html": [
       "<dl>\n",
       "\t<dt>$subway</dt>\n",
       "\t\t<dd><ol class=list-inline>\n",
       "\t<li>'Has_Subway'</li>\n",
       "\t<li>'No_Subway'</li>\n",
       "</ol>\n",
       "</dd>\n",
       "\t<dt>$district</dt>\n",
       "\t\t<dd><ol class=list-inline>\n",
       "\t<li>'ChaoYang'</li>\n",
       "\t<li>'ChangPing'</li>\n",
       "\t<li>'DongCheng'</li>\n",
       "\t<li>'MenTouGou'</li>\n",
       "\t<li>'XiCheng'</li>\n",
       "\t<li>'FengTai'</li>\n",
       "\t<li>'HaiDian'</li>\n",
       "\t<li>'FaXing'</li>\n",
       "\t<li>'FangShang'</li>\n",
       "\t<li>'DaXing'</li>\n",
       "\t<li>'ShiJingShan'</li>\n",
       "\t<li>'ShunYi'</li>\n",
       "\t<li>'TongZhou'</li>\n",
       "</ol>\n",
       "</dd>\n",
       "</dl>\n"
      ],
      "text/latex": [
       "\\begin{description}\n",
       "\\item[\\$subway] \\begin{enumerate*}\n",
       "\\item 'Has\\_Subway'\n",
       "\\item 'No\\_Subway'\n",
       "\\end{enumerate*}\n",
       "\n",
       "\\item[\\$district] \\begin{enumerate*}\n",
       "\\item 'ChaoYang'\n",
       "\\item 'ChangPing'\n",
       "\\item 'DongCheng'\n",
       "\\item 'MenTouGou'\n",
       "\\item 'XiCheng'\n",
       "\\item 'FengTai'\n",
       "\\item 'HaiDian'\n",
       "\\item 'FaXing'\n",
       "\\item 'FangShang'\n",
       "\\item 'DaXing'\n",
       "\\item 'ShiJingShan'\n",
       "\\item 'ShunYi'\n",
       "\\item 'TongZhou'\n",
       "\\end{enumerate*}\n",
       "\n",
       "\\end{description}\n"
      ],
      "text/markdown": [
       "$subway\n",
       ":   1. 'Has_Subway'\n",
       "2. 'No_Subway'\n",
       "\n",
       "\n",
       "\n",
       "$district\n",
       ":   1. 'ChaoYang'\n",
       "2. 'ChangPing'\n",
       "3. 'DongCheng'\n",
       "4. 'MenTouGou'\n",
       "5. 'XiCheng'\n",
       "6. 'FengTai'\n",
       "7. 'HaiDian'\n",
       "8. 'FaXing'\n",
       "9. 'FangShang'\n",
       "10. 'DaXing'\n",
       "11. 'ShiJingShan'\n",
       "12. 'ShunYi'\n",
       "13. 'TongZhou'\n",
       "\n",
       "\n",
       "\n",
       "\n",
       "\n"
      ],
      "text/plain": [
       "$subway\n",
       "[1] \"Has_Subway\" \"No_Subway\" \n",
       "\n",
       "$district\n",
       " [1] \"ChaoYang\"    \"ChangPing\"   \"DongCheng\"   \"MenTouGou\"   \"XiCheng\"    \n",
       " [6] \"FengTai\"     \"HaiDian\"     \"FaXing\"      \"FangShang\"   \"DaXing\"     \n",
       "[11] \"ShiJingShan\" \"ShunYi\"      \"TongZhou\"   \n"
      ]
     },
     "metadata": {},
     "output_type": "display_data"
    }
   ],
   "source": [
    "sapply(data[,c(3,4)], function(x){\n",
    "    as.character(unique(x))\n",
    "})"
   ]
  },
  {
   "cell_type": "code",
   "execution_count": 34,
   "metadata": {},
   "outputs": [
    {
     "data": {
      "text/html": [
       "<table>\n",
       "<thead><tr><th scope=col>square</th><th scope=col>constructionTime</th></tr></thead>\n",
       "<tbody>\n",
       "\t<tr><td>  7.37</td><td>1950  </td></tr>\n",
       "\t<tr><td>640.00</td><td>2016  </td></tr>\n",
       "</tbody>\n",
       "</table>\n"
      ],
      "text/latex": [
       "\\begin{tabular}{ll}\n",
       " square & constructionTime\\\\\n",
       "\\hline\n",
       "\t   7.37 & 1950  \\\\\n",
       "\t 640.00 & 2016  \\\\\n",
       "\\end{tabular}\n"
      ],
      "text/markdown": [
       "\n",
       "| square | constructionTime |\n",
       "|---|---|\n",
       "|   7.37 | 1950   |\n",
       "| 640.00 | 2016   |\n",
       "\n"
      ],
      "text/plain": [
       "     square constructionTime\n",
       "[1,]   7.37 1950            \n",
       "[2,] 640.00 2016            "
      ]
     },
     "metadata": {},
     "output_type": "display_data"
    }
   ],
   "source": [
    "sapply(data[,c(1,2)], function(x){\n",
    "    range(x)\n",
    "})"
   ]
  },
  {
   "cell_type": "code",
   "execution_count": 35,
   "metadata": {},
   "outputs": [],
   "source": [
    "mdl = load(\"./models/final_model.rda\")"
   ]
  },
  {
   "cell_type": "code",
   "execution_count": 36,
   "metadata": {},
   "outputs": [
    {
     "data": {
      "text/html": [
       "<strong>1:</strong> 43542.9078479771"
      ],
      "text/latex": [
       "\\textbf{1:} 43542.9078479771"
      ],
      "text/markdown": [
       "**1:** 43542.9078479771"
      ],
      "text/plain": [
       "       1 \n",
       "43542.91 "
      ]
     },
     "metadata": {},
     "output_type": "display_data"
    }
   ],
   "source": [
    "predict(mdl, newdata = data.frame(data[1,]))"
   ]
  },
  {
   "cell_type": "code",
   "execution_count": null,
   "metadata": {},
   "outputs": [],
   "source": []
  }
 ],
 "metadata": {
  "kernelspec": {
   "display_name": "R",
   "language": "R",
   "name": "ir"
  },
  "language_info": {
   "codemirror_mode": "r",
   "file_extension": ".r",
   "mimetype": "text/x-r-source",
   "name": "R",
   "pygments_lexer": "r",
   "version": "3.6.1"
  }
 },
 "nbformat": 4,
 "nbformat_minor": 4
}
